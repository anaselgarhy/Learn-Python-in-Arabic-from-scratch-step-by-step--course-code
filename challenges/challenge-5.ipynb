{
 "cells": [
  {
   "cell_type": "markdown",
   "id": "ef55f98a-4026-4ab2-9b0d-c82f481cbb01",
   "metadata": {},
   "source": [
    "## Challenge 5"
   ]
  },
  {
   "cell_type": "markdown",
   "id": "37ba376a-bcf1-4143-b109-daf1dff00cb6",
   "metadata": {},
   "source": [
    "1. Write a python program to test whether a number is less than 100"
   ]
  },
  {
   "cell_type": "code",
   "execution_count": 3,
   "id": "7c636e49-3c2d-4311-852d-03ff958cc86f",
   "metadata": {},
   "outputs": [
    {
     "name": "stdin",
     "output_type": "stream",
     "text": [
      "Enter number:  266\n"
     ]
    },
    {
     "name": "stdout",
     "output_type": "stream",
     "text": [
      "False\n"
     ]
    }
   ],
   "source": [
    "num = int(input(\"Enter number: \"))\n",
    "\n",
    "if num < 100:\n",
    "    print(\"True\")\n",
    "else:\n",
    "    print(\"False\")"
   ]
  },
  {
   "cell_type": "markdown",
   "id": "560d3cb3-683b-4b32-8fb2-c2db82915251",
   "metadata": {},
   "source": [
    "### Another solution"
   ]
  },
  {
   "cell_type": "code",
   "execution_count": 4,
   "id": "3c1114b7-fb58-4dfc-a884-fb094d53f54f",
   "metadata": {},
   "outputs": [
    {
     "name": "stdin",
     "output_type": "stream",
     "text": [
      "Enter number:  23\n"
     ]
    },
    {
     "name": "stdout",
     "output_type": "stream",
     "text": [
      "True\n"
     ]
    }
   ],
   "source": [
    "def check_number(num):\n",
    "    return num < 100\n",
    "\n",
    "num = int(input(\"Enter number: \"))\n",
    "\n",
    "print(check_number(num))"
   ]
  },
  {
   "cell_type": "markdown",
   "id": "c79ca27b-6efd-4f67-95c2-4a1952a13a35",
   "metadata": {},
   "source": [
    "---"
   ]
  },
  {
   "cell_type": "markdown",
   "id": "23b3429c-2a41-4494-a4b5-80ee5f1920d9",
   "metadata": {},
   "source": [
    "2. Write a python program to test whether a number is within 100 of 1000"
   ]
  },
  {
   "cell_type": "code",
   "execution_count": 7,
   "id": "698207ac-b2ca-4e3a-95ae-9384c53ea89a",
   "metadata": {},
   "outputs": [
    {
     "name": "stdin",
     "output_type": "stream",
     "text": [
      "Enter number:  901\n"
     ]
    },
    {
     "name": "stdout",
     "output_type": "stream",
     "text": [
      "True\n"
     ]
    }
   ],
   "source": [
    "num = int(input(\"Enter number: \"))\n",
    "\n",
    "if num > 900 and num < 1100:\n",
    "    print(\"True\")\n",
    "else:\n",
    "    print(\"False\")"
   ]
  },
  {
   "cell_type": "markdown",
   "id": "ddc60cb5-55c6-4439-b5c6-69b6c3d0e5a4",
   "metadata": {
    "tags": []
   },
   "source": [
    "### Another solution"
   ]
  },
  {
   "cell_type": "code",
   "execution_count": 8,
   "id": "e5fb0776-6464-4c8e-b386-96c19a4c6255",
   "metadata": {},
   "outputs": [
    {
     "name": "stdin",
     "output_type": "stream",
     "text": [
      "Enter number:  901\n"
     ]
    },
    {
     "name": "stdout",
     "output_type": "stream",
     "text": [
      "True\n"
     ]
    }
   ],
   "source": [
    "def check_num(number):\n",
    "    return abs(1000 - number) <= 100\n",
    "\n",
    "num = int(input(\"Enter number: \"))\n",
    "\n",
    "print(check_num(num))"
   ]
  },
  {
   "cell_type": "markdown",
   "id": "4073639c-036a-438a-b2f2-4db4838e8f22",
   "metadata": {},
   "source": [
    "---"
   ]
  },
  {
   "cell_type": "markdown",
   "id": "da9c37cb-e828-43a6-8f80-12f8bb88a22b",
   "metadata": {},
   "source": [
    "3. Write a python program to test whether a number is within 100 of 1000 or 2000"
   ]
  },
  {
   "cell_type": "code",
   "execution_count": 11,
   "id": "8322907a-d2aa-407a-b653-6036561f389d",
   "metadata": {},
   "outputs": [
    {
     "name": "stdin",
     "output_type": "stream",
     "text": [
      "Enter number:  1300\n"
     ]
    },
    {
     "name": "stdout",
     "output_type": "stream",
     "text": [
      "False\n"
     ]
    }
   ],
   "source": [
    "num = int(input(\"Enter number: \"))\n",
    "\n",
    "if abs(1000 - num) <= 100 or abs(2000 - num) <=  100:\n",
    "    print(True)\n",
    "else:\n",
    "    print(False)"
   ]
  },
  {
   "cell_type": "markdown",
   "id": "b6e7ba59-b5c5-4323-9a5d-039d466df6d0",
   "metadata": {
    "tags": []
   },
   "source": [
    "### Another solution"
   ]
  },
  {
   "cell_type": "code",
   "execution_count": 13,
   "id": "fd239273-d39b-4de5-892e-39ca77e21685",
   "metadata": {},
   "outputs": [
    {
     "name": "stdin",
     "output_type": "stream",
     "text": [
      "Enter number:  2050\n"
     ]
    },
    {
     "name": "stdout",
     "output_type": "stream",
     "text": [
      "True\n"
     ]
    }
   ],
   "source": [
    "def check(num):\n",
    "    return (abs(1000 - num) <= 100) or (abs(2000 - num) <=  100)\n",
    "\n",
    "num = int(input(\"Enter number: \"))\n",
    "\n",
    "if check(num):\n",
    "    print(True)\n",
    "else:\n",
    "    print(False)"
   ]
  },
  {
   "cell_type": "code",
   "execution_count": null,
   "id": "0cf87999-525b-44a2-88d9-502c888da1de",
   "metadata": {},
   "outputs": [],
   "source": []
  }
 ],
 "metadata": {
  "kernelspec": {
   "display_name": "Python 3 (ipykernel)",
   "language": "python",
   "name": "python3"
  },
  "language_info": {
   "codemirror_mode": {
    "name": "ipython",
    "version": 3
   },
   "file_extension": ".py",
   "mimetype": "text/x-python",
   "name": "python",
   "nbconvert_exporter": "python",
   "pygments_lexer": "ipython3",
   "version": "3.9.7"
  }
 },
 "nbformat": 4,
 "nbformat_minor": 5
}
