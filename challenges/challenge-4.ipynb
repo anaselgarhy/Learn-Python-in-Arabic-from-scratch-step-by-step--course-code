{
 "cells": [
  {
   "cell_type": "markdown",
   "id": "ef7053c8-c73e-453c-8ba5-04073100a712",
   "metadata": {},
   "source": [
    "## Challenge 4"
   ]
  },
  {
   "cell_type": "markdown",
   "id": "74168b85-8efc-422e-af35-8ae07f2a6f5d",
   "metadata": {},
   "source": [
    "1. Write a python program to find whether given number (accept from user) is geter than 10, print out an approoriate mrsssage to the user"
   ]
  },
  {
   "cell_type": "code",
   "execution_count": 2,
   "id": "3299b02b-f9b0-48e2-9a5d-e10842c9ebf8",
   "metadata": {},
   "outputs": [
    {
     "name": "stdin",
     "output_type": "stream",
     "text": [
      "Please eenter the number:  6\n"
     ]
    },
    {
     "name": "stdout",
     "output_type": "stream",
     "text": [
      "This is less than 10\n"
     ]
    }
   ],
   "source": [
    "# Read number from user\n",
    "num = int(input(\"Please eenter the number: \"))\n",
    "\n",
    "if num > 10:\n",
    "    print(\"This is grater than 10\")\n",
    "else:\n",
    "    print(\"This is less than 10\")"
   ]
  },
  {
   "cell_type": "markdown",
   "id": "1160e743-e883-46c9-b1e3-d1462e1706b2",
   "metadata": {},
   "source": [
    "---"
   ]
  },
  {
   "cell_type": "markdown",
   "id": "365ff2db-8f78-4592-87a6-e12379aa995d",
   "metadata": {},
   "source": [
    "2. Write a python program to find whether a geven number is greater than 10, greater than 100, greater than 1000, print out an approoriate mrsssage to the user"
   ]
  },
  {
   "cell_type": "code",
   "execution_count": 5,
   "id": "4f232cfe-2150-44e4-b412-9f80b82ea9b5",
   "metadata": {},
   "outputs": [
    {
     "name": "stdin",
     "output_type": "stream",
     "text": [
      "Please enter the number:  200\n"
     ]
    },
    {
     "name": "stdout",
     "output_type": "stream",
     "text": [
      "This is greater than 100\n"
     ]
    }
   ],
   "source": [
    "# Read number from user\n",
    "number = int(input(\"Please enter the number: \"))\n",
    "\n",
    "if number > 1000:\n",
    "    print(\"This is greater than 1000\")\n",
    "elif number > 100:\n",
    "    print(\"This is greater than 100\")\n",
    "elif number > 10:\n",
    "    print(\"This is greater than 10\")\n",
    "else:\n",
    "    print(\"This is less than 10\")"
   ]
  },
  {
   "cell_type": "markdown",
   "id": "364633b3-865b-45c1-b152-096536faf5bf",
   "metadata": {},
   "source": [
    "---"
   ]
  },
  {
   "cell_type": "markdown",
   "id": "47293d78-2e5a-490a-8dcb-19ab64b0e930",
   "metadata": {},
   "source": [
    "*Write a python program grven number from user and print num is even if user enter even number, and print num is odd if user ente odd number*"
   ]
  },
  {
   "cell_type": "code",
   "execution_count": 7,
   "id": "1bfd91f7-b670-4a3e-866b-179855d87593",
   "metadata": {},
   "outputs": [
    {
     "name": "stdin",
     "output_type": "stream",
     "text": [
      "Enter number:  4\n"
     ]
    },
    {
     "name": "stdout",
     "output_type": "stream",
     "text": [
      "4 is even\n"
     ]
    }
   ],
   "source": [
    "# Read number from user\n",
    "num = int(input(\"Enter number: \"))\n",
    "\n",
    "if num % 2 == 0:\n",
    "    print(str(num) + \" is even\")\n",
    "else:\n",
    "    print(str(num) + \" is odd\")"
   ]
  },
  {
   "cell_type": "code",
   "execution_count": null,
   "id": "db060136-f5a7-4db8-84e1-59b4d1a1373f",
   "metadata": {},
   "outputs": [],
   "source": []
  }
 ],
 "metadata": {
  "kernelspec": {
   "display_name": "Python 3 (ipykernel)",
   "language": "python",
   "name": "python3"
  },
  "language_info": {
   "codemirror_mode": {
    "name": "ipython",
    "version": 3
   },
   "file_extension": ".py",
   "mimetype": "text/x-python",
   "name": "python",
   "nbconvert_exporter": "python",
   "pygments_lexer": "ipython3",
   "version": "3.9.7"
  }
 },
 "nbformat": 4,
 "nbformat_minor": 5
}
