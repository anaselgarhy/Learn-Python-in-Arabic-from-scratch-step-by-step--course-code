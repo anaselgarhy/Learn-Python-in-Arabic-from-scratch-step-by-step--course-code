{
 "cells": [
  {
   "cell_type": "markdown",
   "id": "acb2e1c4-f67e-4a02-8bc2-cac7c254d246",
   "metadata": {},
   "source": [
    "## Challenge 11:"
   ]
  },
  {
   "cell_type": "markdown",
   "id": "5a57fedd-cb31-4a0b-8da9-4aacf622c15c",
   "metadata": {},
   "source": [
    "1. Write a python proggram to check whether a specified valus is contained in a group of valus."
   ]
  },
  {
   "cell_type": "markdown",
   "id": "0a5eb81a-ea8a-4365-9b0e-5efd41be8a71",
   "metadata": {},
   "source": [
    "Test data:<br>\n",
    "3 -> [1, 6, 7, 3, 7]: True<br>\n",
    "-1 -> [1, 6, 7, 3, 7]: False"
   ]
  },
  {
   "cell_type": "code",
   "execution_count": 3,
   "id": "dac6bff1-cb6c-4c58-b8f1-3cc9f9005643",
   "metadata": {},
   "outputs": [
    {
     "name": "stdout",
     "output_type": "stream",
     "text": [
      "True\n",
      "False\n"
     ]
    }
   ],
   "source": [
    "def check_item_in_list(s_item, items_list):\n",
    "    for item in items_list:\n",
    "        if item == s_item:\n",
    "            return True\n",
    "    return False\n",
    "\n",
    "\n",
    "test_items1 = [4, 7, 8, 3, 87]\n",
    "test_items2 = [\"Anas\", \"Ahmed\", \"Mohamed\"]\n",
    "\n",
    "print(check_item_in_list(3, test_items1))\n",
    "print(check_item_in_list(\"Ba\", test_items2))"
   ]
  },
  {
   "cell_type": "markdown",
   "id": "49501886-2441-44a0-af8f-d016767186a0",
   "metadata": {},
   "source": [
    "---"
   ]
  },
  {
   "cell_type": "markdown",
   "id": "247059c8-ec67-402b-9e7c-ee84fcc8fa9c",
   "metadata": {},
   "source": [
    "2. Write a python program to test a passed letter is a vowel or not."
   ]
  },
  {
   "cell_type": "code",
   "execution_count": 8,
   "id": "dc1e3e2f-6bb3-498b-b4f0-04981417c64e",
   "metadata": {},
   "outputs": [
    {
     "name": "stdin",
     "output_type": "stream",
     "text": [
      "Enter letter:  a\n"
     ]
    },
    {
     "name": "stdout",
     "output_type": "stream",
     "text": [
      "a is vowel letter\n"
     ]
    }
   ],
   "source": [
    "def is_vowel(letter):\n",
    "    if letter in \"aeiou\":\n",
    "        return \"vowel\"\n",
    "    return \"not vowel\"\n",
    "\n",
    "letter = input(\"Enter letter: \")\n",
    "\n",
    "print(letter + \" is \" + is_vowel(letter) + \" letter\")"
   ]
  },
  {
   "cell_type": "code",
   "execution_count": null,
   "id": "fdd6bec4-2dfb-4cec-9e1d-b16db10fec69",
   "metadata": {},
   "outputs": [],
   "source": []
  }
 ],
 "metadata": {
  "kernelspec": {
   "display_name": "Python 3 (ipykernel)",
   "language": "python",
   "name": "python3"
  },
  "language_info": {
   "codemirror_mode": {
    "name": "ipython",
    "version": 3
   },
   "file_extension": ".py",
   "mimetype": "text/x-python",
   "name": "python",
   "nbconvert_exporter": "python",
   "pygments_lexer": "ipython3",
   "version": "3.9.7"
  }
 },
 "nbformat": 4,
 "nbformat_minor": 5
}
