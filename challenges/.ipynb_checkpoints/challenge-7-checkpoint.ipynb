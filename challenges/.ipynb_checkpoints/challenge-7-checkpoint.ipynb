{
 "cells": [
  {
   "cell_type": "markdown",
   "id": "0f7b3846-5e86-4fca-8172-780a7547ea63",
   "metadata": {},
   "source": [
    "## Challenge 7:"
   ]
  },
  {
   "cell_type": "markdown",
   "id": "747f94d2-3863-425b-ab45-5809d5a0a8b1",
   "metadata": {},
   "source": [
    "1. Write a python program to show the numbers from 0 to 9"
   ]
  },
  {
   "cell_type": "code",
   "execution_count": 2,
   "id": "97addf5c-3869-4bb2-bf3c-5982fad7c7c7",
   "metadata": {},
   "outputs": [
    {
     "name": "stdout",
     "output_type": "stream",
     "text": [
      "0\n",
      "1\n",
      "2\n",
      "3\n",
      "4\n",
      "5\n",
      "6\n",
      "7\n",
      "8\n",
      "9\n"
     ]
    }
   ],
   "source": [
    "for i in range(10):\n",
    "    print(i)"
   ]
  },
  {
   "cell_type": "markdown",
   "id": "ed06b8f0-55e5-4298-bee9-eed6c4db41ce",
   "metadata": {},
   "source": [
    "---"
   ]
  },
  {
   "cell_type": "markdown",
   "id": "1fb6da2d-904f-498b-bb2d-e4aa4cbd99bf",
   "metadata": {},
   "source": [
    "2. Write a python program to show the numbers from 1 to 10"
   ]
  },
  {
   "cell_type": "code",
   "execution_count": 3,
   "id": "09df3304-1057-4a02-8ee5-db2cba942c7b",
   "metadata": {},
   "outputs": [
    {
     "name": "stdout",
     "output_type": "stream",
     "text": [
      "1\n",
      "2\n",
      "3\n",
      "4\n",
      "5\n",
      "6\n",
      "7\n",
      "8\n",
      "9\n",
      "10\n"
     ]
    }
   ],
   "source": [
    "for i in range(1, 11):\n",
    "    print(i)"
   ]
  },
  {
   "cell_type": "markdown",
   "id": "bafa923d-a087-4302-a8be-34877cd50723",
   "metadata": {},
   "source": [
    "---"
   ]
  },
  {
   "cell_type": "markdown",
   "id": "cf052e6d-7d31-4653-9988-57a63a005679",
   "metadata": {},
   "source": [
    "3. Write a Python program to show numbers from 1 to 10, and in each cycle it increments 2"
   ]
  },
  {
   "cell_type": "code",
   "execution_count": 4,
   "id": "e8fb5069-0b89-405b-945c-5cb0787ea614",
   "metadata": {},
   "outputs": [
    {
     "name": "stdout",
     "output_type": "stream",
     "text": [
      "1\n",
      "3\n",
      "5\n",
      "7\n",
      "9\n"
     ]
    }
   ],
   "source": [
    "for i in range(1, 11, 2):\n",
    "    print(i)"
   ]
  },
  {
   "cell_type": "markdown",
   "id": "03dac825-921d-49f3-890d-4df9ed0bea1a",
   "metadata": {},
   "source": [
    "---"
   ]
  },
  {
   "cell_type": "markdown",
   "id": "5435846d-b99f-4d08-9c04-3f907c311335",
   "metadata": {},
   "source": [
    "4. Write a python program to get a string which is n (non-negative integer) copies of a geven string"
   ]
  },
  {
   "cell_type": "code",
   "execution_count": 9,
   "id": "edded4eb-fd26-45fc-b4c8-50a6363109f3",
   "metadata": {},
   "outputs": [
    {
     "name": "stdin",
     "output_type": "stream",
     "text": [
      "Enter the string:  Anas\n",
      "Enter the number of repeeate:  4\n"
     ]
    },
    {
     "name": "stdout",
     "output_type": "stream",
     "text": [
      "AnasAnasAnasAnas\n"
     ]
    }
   ],
   "source": [
    "def create_str(string, num):\n",
    "    str_r = \"\"\n",
    "    for i in range(num):\n",
    "        str_r = str_r + string\n",
    "    return str_r\n",
    "\n",
    "string_in = input(\"Enter the string: \")\n",
    "num_in = int(input(\"Enter the number of repeeate: \"))\n",
    "\n",
    "print(create_str(string_in, num_in))"
   ]
  },
  {
   "cell_type": "code",
   "execution_count": null,
   "id": "79a20d41-774f-4084-9752-d5d539f32652",
   "metadata": {},
   "outputs": [],
   "source": []
  }
 ],
 "metadata": {
  "kernelspec": {
   "display_name": "Python 3 (ipykernel)",
   "language": "python",
   "name": "python3"
  },
  "language_info": {
   "codemirror_mode": {
    "name": "ipython",
    "version": 3
   },
   "file_extension": ".py",
   "mimetype": "text/x-python",
   "name": "python",
   "nbconvert_exporter": "python",
   "pygments_lexer": "ipython3",
   "version": "3.9.7"
  }
 },
 "nbformat": 4,
 "nbformat_minor": 5
}
