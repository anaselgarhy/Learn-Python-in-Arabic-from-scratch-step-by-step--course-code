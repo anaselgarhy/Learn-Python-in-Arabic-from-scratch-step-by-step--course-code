{
 "cells": [
  {
   "cell_type": "markdown",
   "id": "02a3eec2-8346-44a3-abd7-33a41fe49006",
   "metadata": {
    "tags": []
   },
   "source": [
    "## Challenge 2:"
   ]
  },
  {
   "cell_type": "markdown",
   "id": "a33f7a09-6634-4981-bb81-ae8c78a0e504",
   "metadata": {
    "tags": []
   },
   "source": [
    "**Write the python program witch accept the heigth and width from user and print thr rectaangle area**\n",
    "<br>\n",
    "*Ex.*\n",
    "<br>\n",
    "Width: 5 <br>\n",
    "Heigth: 10 <br>\n",
    "\n",
    "Print: Area of rectangle = 50"
   ]
  },
  {
   "cell_type": "markdown",
   "id": "caa7387a-a177-4814-89c8-924c74d3353c",
   "metadata": {
    "tags": []
   },
   "source": []
  },
  {
   "cell_type": "code",
   "execution_count": 2,
   "id": "b4e4a3cd-1811-4e25-bc1c-be376ef24a40",
   "metadata": {},
   "outputs": [
    {
     "name": "stdin",
     "output_type": "stream",
     "text": [
      "Please enter the rectangle width:  5\n",
      "Please enter the rectangle heigth:  10\n"
     ]
    },
    {
     "name": "stdout",
     "output_type": "stream",
     "text": [
      "Area of rectangle = 50\n"
     ]
    }
   ],
   "source": [
    "width = int(input(\"Please enter the rectangle width: \"))\n",
    "height = int(input(\"Please enter the rectangle heigth: \"))\n",
    "\n",
    "area = width * height\n",
    "\n",
    "print(\"Area of rectangle = \" + str(area))"
   ]
  },
  {
   "cell_type": "code",
   "execution_count": null,
   "id": "86e6cce1-f855-4ac9-a8ca-a8824cdce745",
   "metadata": {},
   "outputs": [],
   "source": []
  }
 ],
 "metadata": {
  "kernelspec": {
   "display_name": "Python 3 (ipykernel)",
   "language": "python",
   "name": "python3"
  },
  "language_info": {
   "codemirror_mode": {
    "name": "ipython",
    "version": 3
   },
   "file_extension": ".py",
   "mimetype": "text/x-python",
   "name": "python",
   "nbconvert_exporter": "python",
   "pygments_lexer": "ipython3",
   "version": "3.9.7"
  }
 },
 "nbformat": 4,
 "nbformat_minor": 5
}
