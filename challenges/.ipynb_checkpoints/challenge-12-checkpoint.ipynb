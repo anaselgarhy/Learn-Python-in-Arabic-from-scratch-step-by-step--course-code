{
 "cells": [
  {
   "cell_type": "markdown",
   "id": "06ddafd3-77af-4c46-869f-a01a260ac4d1",
   "metadata": {},
   "source": [
    "## Challenge 12:"
   ]
  },
  {
   "cell_type": "markdown",
   "id": "54cbfbc6-29c3-44e6-a534-cbfdf8abbc3a",
   "metadata": {},
   "source": [
    "Write a python prigram to create a histogram from a given list of integers.<br>\n",
    "Sample input: `[2, 3, 7, 6, 4, 9, 3]` <br>\n",
    "Sample output:<br>\n",
    "**<br>\n",
    "*** <br>\n",
    "*******<br>\n",
    "******<br>\n",
    "****<br>\n",
    "*********<br>\n",
    "***<br>"
   ]
  },
  {
   "cell_type": "code",
   "execution_count": 3,
   "id": "77042c28-c55f-4f8a-825e-823d34dd5efc",
   "metadata": {},
   "outputs": [
    {
     "name": "stdout",
     "output_type": "stream",
     "text": [
      "**\n",
      "***\n",
      "*******\n",
      "******\n",
      "****\n",
      "*********\n",
      "***\n",
      "\n"
     ]
    }
   ],
   "source": [
    "def create_histogram(ls_numbers):\n",
    "    out = \"\"\n",
    "    for num in ls_numbers:\n",
    "        while num > 0:\n",
    "            out = out + \"*\"\n",
    "            num -= 1\n",
    "        out = out + \"\\n\"\n",
    "    return out\n",
    "\n",
    "print(create_histogram([2, 3, 7, 6, 4, 9, 3]))"
   ]
  },
  {
   "cell_type": "code",
   "execution_count": null,
   "id": "654e375f-d678-46be-a118-b103c19787d4",
   "metadata": {},
   "outputs": [],
   "source": []
  }
 ],
 "metadata": {
  "kernelspec": {
   "display_name": "Python 3 (ipykernel)",
   "language": "python",
   "name": "python3"
  },
  "language_info": {
   "codemirror_mode": {
    "name": "ipython",
    "version": 3
   },
   "file_extension": ".py",
   "mimetype": "text/x-python",
   "name": "python",
   "nbconvert_exporter": "python",
   "pygments_lexer": "ipython3",
   "version": "3.9.7"
  }
 },
 "nbformat": 4,
 "nbformat_minor": 5
}
