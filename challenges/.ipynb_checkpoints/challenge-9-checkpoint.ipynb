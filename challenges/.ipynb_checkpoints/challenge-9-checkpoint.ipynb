{
 "cells": [
  {
   "cell_type": "markdown",
   "id": "6e8f743d-2613-42fb-b92a-58ae4893214f",
   "metadata": {},
   "source": [
    "## Challenge 9"
   ]
  },
  {
   "cell_type": "raw",
   "id": "549d935e-a8bc-4226-b2aa-1bb22c3dc091",
   "metadata": {},
   "source": [
    "Write a python program to get a new string from a given string where \"is\" has ben added to the front, If the given string already begins with \"is\" then return the string unchanged"
   ]
  },
  {
   "cell_type": "code",
   "execution_count": 3,
   "id": "9b19aa2c-861b-4350-9a23-c655f5604347",
   "metadata": {},
   "outputs": [
    {
     "name": "stdin",
     "output_type": "stream",
     "text": [
      "Enter a string:  IsAnas\n"
     ]
    },
    {
     "name": "stdout",
     "output_type": "stream",
     "text": [
      "IsAnas\n"
     ]
    }
   ],
   "source": [
    "def is_string(string):\n",
    "    if len(string) > 1 and string[:2] == \"Is\":\n",
    "        return string # return the string unchanged\n",
    "    return \"Is\" + string\n",
    "\n",
    "# Read string from user\n",
    "string_in = input(\"Enter a string: \")\n",
    "\n",
    "print(is_string(string_in))"
   ]
  },
  {
   "cell_type": "code",
   "execution_count": null,
   "id": "0b5aa97a-4982-44f2-9500-ce1c82b9e114",
   "metadata": {},
   "outputs": [],
   "source": []
  }
 ],
 "metadata": {
  "kernelspec": {
   "display_name": "Python 3 (ipykernel)",
   "language": "python",
   "name": "python3"
  },
  "language_info": {
   "codemirror_mode": {
    "name": "ipython",
    "version": 3
   },
   "file_extension": ".py",
   "mimetype": "text/x-python",
   "name": "python",
   "nbconvert_exporter": "python",
   "pygments_lexer": "ipython3",
   "version": "3.9.7"
  }
 },
 "nbformat": 4,
 "nbformat_minor": 5
}
