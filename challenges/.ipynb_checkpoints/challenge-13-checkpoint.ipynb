{
 "cells": [
  {
   "cell_type": "markdown",
   "id": "be841c50-0748-4134-baff-12be757b4a07",
   "metadata": {},
   "source": [
    "## Challenge 13:"
   ]
  },
  {
   "cell_type": "markdown",
   "id": "36dadd6e-f1cc-4aa0-a1a2-1226cad611b9",
   "metadata": {},
   "source": [
    "Write a python program to print out a set containgining all the colors from `color_list_1` which are not present in `color_list_2`<br>\n",
    "**Test data:**"
   ]
  },
  {
   "cell_type": "code",
   "execution_count": 2,
   "id": "92982f91-4113-45fd-8558-75765ea72cc5",
   "metadata": {},
   "outputs": [],
   "source": [
    "color_list_1 = [\"White\", \"Black\", \"Red\"]\n",
    "color_list_2 = [\"Red\", \"Green\"]"
   ]
  },
  {
   "cell_type": "markdown",
   "id": "e71e3b8d-974e-4524-87fd-17fdac895ee6",
   "metadata": {},
   "source": [
    "**Expcted output:**<br>\n",
    "`['Black', 'White']`"
   ]
  },
  {
   "cell_type": "code",
   "execution_count": 3,
   "id": "69cb5259-4f3a-451b-a6f0-f5da5cc06635",
   "metadata": {},
   "outputs": [
    {
     "name": "stdout",
     "output_type": "stream",
     "text": [
      "['White', 'Black']\n"
     ]
    }
   ],
   "source": [
    "def contain_color(list_1, list_2):\n",
    "    result = []\n",
    "    for color in list_1:\n",
    "        if not (color in list_2):\n",
    "            result.append(color)\n",
    "    return result\n",
    "\n",
    "print(contain_color(color_list_1, color_list_2))"
   ]
  },
  {
   "cell_type": "markdown",
   "id": "45e500a5-5a3b-4069-b6cb-46a36b703aba",
   "metadata": {},
   "source": [
    "### Another solution"
   ]
  },
  {
   "cell_type": "code",
   "execution_count": 6,
   "id": "9d61d204-8db9-41df-b8ce-1f53320a9a47",
   "metadata": {},
   "outputs": [
    {
     "name": "stdout",
     "output_type": "stream",
     "text": [
      "{'Black', 'White'}\n"
     ]
    }
   ],
   "source": [
    "def contain_color_2(list_1, list_2):\n",
    "    set_1 = set(list_1)\n",
    "    set_2 = set(list_2)\n",
    "    \n",
    "    return set_1.difference(set_2)\n",
    "\n",
    "print(contain_color_2(color_list_1, color_list_2))"
   ]
  },
  {
   "cell_type": "code",
   "execution_count": null,
   "id": "586f22bb-59e9-467b-ab21-c761624e72f7",
   "metadata": {},
   "outputs": [],
   "source": []
  }
 ],
 "metadata": {
  "kernelspec": {
   "display_name": "Python 3 (ipykernel)",
   "language": "python",
   "name": "python3"
  },
  "language_info": {
   "codemirror_mode": {
    "name": "ipython",
    "version": 3
   },
   "file_extension": ".py",
   "mimetype": "text/x-python",
   "name": "python",
   "nbconvert_exporter": "python",
   "pygments_lexer": "ipython3",
   "version": "3.9.7"
  }
 },
 "nbformat": 4,
 "nbformat_minor": 5
}
