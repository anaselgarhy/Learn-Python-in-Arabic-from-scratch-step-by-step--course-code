{
 "cells": [
  {
   "cell_type": "markdown",
   "id": "363513e5-1bb8-466a-a4c7-dbbbec9ace57",
   "metadata": {},
   "source": [
    "## Challenge 8"
   ]
  },
  {
   "cell_type": "markdown",
   "id": "b04a26b8-ad6b-4bcf-b771-85d4397ed2b1",
   "metadata": {},
   "source": [
    "1. Write a python program to display the first and last colors from following list."
   ]
  },
  {
   "cell_type": "code",
   "execution_count": 1,
   "id": "5e86f5a7-d5f6-4ce4-9c87-db9f95990d5c",
   "metadata": {},
   "outputs": [],
   "source": [
    "color_list = [\"Red\", \"Green\", \"Blue\", \"White\", \"Black\", \"Purple\"]"
   ]
  },
  {
   "cell_type": "code",
   "execution_count": 2,
   "id": "ecd71c52-7610-4702-9043-a251f282d919",
   "metadata": {},
   "outputs": [
    {
     "name": "stdout",
     "output_type": "stream",
     "text": [
      "Red\n",
      "Purple\n"
     ]
    }
   ],
   "source": [
    "## Ans\n",
    "for i in range(0, len(color_list), len(color_list) - 1):\n",
    "    print(color_list[i])"
   ]
  },
  {
   "cell_type": "markdown",
   "id": "7b0449e5-83c9-449b-bbfc-be7cb63fcaef",
   "metadata": {},
   "source": [
    "---"
   ]
  },
  {
   "cell_type": "markdown",
   "id": "b57bbf39-12fd-417d-bd32-a92e6dc211a7",
   "metadata": {},
   "source": [
    "2. Write a python program to display the all colors from the color_list."
   ]
  },
  {
   "cell_type": "code",
   "execution_count": 3,
   "id": "fb440168-5b55-4494-bc90-d4a0ac9a8833",
   "metadata": {},
   "outputs": [
    {
     "name": "stdout",
     "output_type": "stream",
     "text": [
      "['Red', 'Green', 'Blue', 'White', 'Black', 'Purple']\n"
     ]
    }
   ],
   "source": [
    "print(color_list[:6])"
   ]
  },
  {
   "cell_type": "markdown",
   "id": "d3376ced-6bd2-434d-8bef-2c3512f14459",
   "metadata": {},
   "source": [
    "*OR*"
   ]
  },
  {
   "cell_type": "code",
   "execution_count": 4,
   "id": "a8fc070f-d9d9-4e9d-84d0-b47ff3617a0a",
   "metadata": {},
   "outputs": [
    {
     "name": "stdout",
     "output_type": "stream",
     "text": [
      "['Red', 'Green', 'Blue', 'White', 'Black', 'Purple']\n"
     ]
    }
   ],
   "source": [
    "print(color_list[:len(color_list)])"
   ]
  },
  {
   "cell_type": "markdown",
   "id": "3a090fbd-b1a4-45f8-9a6c-c5d4f39a4399",
   "metadata": {},
   "source": [
    "*if you want print a single valus*"
   ]
  },
  {
   "cell_type": "code",
   "execution_count": 5,
   "id": "668de05f-2f1c-4433-8d5f-bc89b156306d",
   "metadata": {},
   "outputs": [
    {
     "name": "stdout",
     "output_type": "stream",
     "text": [
      "Red\n",
      "Green\n",
      "Blue\n",
      "White\n",
      "Black\n",
      "Purple\n"
     ]
    }
   ],
   "source": [
    "for i in range(len(color_list)):\n",
    "    print(color_list[i])"
   ]
  }
 ],
 "metadata": {
  "kernelspec": {
   "display_name": "Python 3 (ipykernel)",
   "language": "python",
   "name": "python3"
  },
  "language_info": {
   "codemirror_mode": {
    "name": "ipython",
    "version": 3
   },
   "file_extension": ".py",
   "mimetype": "text/x-python",
   "name": "python",
   "nbconvert_exporter": "python",
   "pygments_lexer": "ipython3",
   "version": "3.9.7"
  }
 },
 "nbformat": 4,
 "nbformat_minor": 5
}
