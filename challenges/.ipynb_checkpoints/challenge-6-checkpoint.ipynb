{
 "cells": [
  {
   "cell_type": "markdown",
   "id": "dd57df2b-5f19-4986-97bb-c2ea235665cf",
   "metadata": {},
   "source": [
    "## Challenge 6:"
   ]
  },
  {
   "cell_type": "markdown",
   "id": "b3ec7146-1779-4baf-9d1f-66afa9f5debe",
   "metadata": {},
   "source": [
    "1. Write a python program to get the defference between a given number and 17, if the number is geter then 17 return double the absolute deffernce"
   ]
  },
  {
   "cell_type": "code",
   "execution_count": 1,
   "id": "9d451c2b-81fb-4e55-8a77-5fb242d1ac15",
   "metadata": {},
   "outputs": [
    {
     "name": "stdin",
     "output_type": "stream",
     "text": [
      "Enter number:  10\n"
     ]
    },
    {
     "name": "stdout",
     "output_type": "stream",
     "text": [
      "7\n"
     ]
    }
   ],
   "source": [
    "def defference(num):\n",
    "    if num <= 17:\n",
    "        return 17 - num\n",
    "    else:\n",
    "        return (num - 17) * 2\n",
    "    \n",
    "number = int(input(\"Enter number: \"))\n",
    "\n",
    "print(defference(number))"
   ]
  },
  {
   "cell_type": "markdown",
   "id": "2f35488d-f2cd-4385-ba37-cdf82f5a5709",
   "metadata": {},
   "source": [
    "---"
   ]
  },
  {
   "cell_type": "markdown",
   "id": "50b5bf0d-e723-4836-b4be-929eb929bd27",
   "metadata": {},
   "source": [
    "2. Write a python program to calculate the sum of three given numbers, if the valus are equal then return their of theirr sum"
   ]
  },
  {
   "cell_type": "code",
   "execution_count": 2,
   "id": "6b52f660-5bf1-4ea4-a945-f44a1119cdb4",
   "metadata": {},
   "outputs": [
    {
     "name": "stdin",
     "output_type": "stream",
     "text": [
      "Enter number:  2\n",
      "Enter number:  7\n",
      "Enter number:  6\n"
     ]
    },
    {
     "name": "stdout",
     "output_type": "stream",
     "text": [
      "15\n"
     ]
    }
   ],
   "source": [
    "def sum_thrice(num1, num2, num3):\n",
    "    sum = num1 + num2 + num3\n",
    "    \n",
    "    if num1 == num2 and num2 == num3:\n",
    "        return sum * 3\n",
    "    \n",
    "    return sum\n",
    "\n",
    "def read_num_from_user():\n",
    "    return int(input(\"Enter number: \"))\n",
    "\n",
    "num1 = read_num_from_user()\n",
    "num2 = read_num_from_user()\n",
    "num3 = read_num_from_user()\n",
    "\n",
    "print(sum_thrice(num1, num2, num3))"
   ]
  },
  {
   "cell_type": "code",
   "execution_count": null,
   "id": "4b5d12f2-347c-4a59-8ea5-50e1cdc8d4f5",
   "metadata": {},
   "outputs": [],
   "source": []
  }
 ],
 "metadata": {
  "kernelspec": {
   "display_name": "Python 3 (ipykernel)",
   "language": "python",
   "name": "python3"
  },
  "language_info": {
   "codemirror_mode": {
    "name": "ipython",
    "version": 3
   },
   "file_extension": ".py",
   "mimetype": "text/x-python",
   "name": "python",
   "nbconvert_exporter": "python",
   "pygments_lexer": "ipython3",
   "version": "3.9.7"
  }
 },
 "nbformat": 4,
 "nbformat_minor": 5
}
