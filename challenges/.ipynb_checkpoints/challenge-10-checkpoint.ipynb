{
 "cells": [
  {
   "cell_type": "markdown",
   "id": "b52a6c5d-4de3-42f0-b06e-d42a65599fa7",
   "metadata": {},
   "source": [
    "## Challenge 10:"
   ]
  },
  {
   "cell_type": "markdown",
   "id": "73512761-57e6-4fb5-bd4e-23bd08b94b19",
   "metadata": {},
   "source": [
    "Write a python program to count the number 4 in a given list."
   ]
  },
  {
   "cell_type": "code",
   "execution_count": 4,
   "id": "00092b7e-941c-4939-9ef1-ac33427f167e",
   "metadata": {},
   "outputs": [
    {
     "name": "stdout",
     "output_type": "stream",
     "text": [
      "2\n"
     ]
    }
   ],
   "source": [
    "def list_count_4(list_of_nums):\n",
    "    count = 0;\n",
    "    for num in list_of_nums: # same for eatch\n",
    "        if num == 4:\n",
    "            count = count + 1\n",
    "    return count\n",
    "\n",
    "print(list_count_4([3, 7, 7, 8, 2, 4, 7, 4]))"
   ]
  },
  {
   "cell_type": "code",
   "execution_count": null,
   "id": "64a5481f-e44a-4fb0-baf2-c6dd8de70f42",
   "metadata": {},
   "outputs": [],
   "source": []
  }
 ],
 "metadata": {
  "kernelspec": {
   "display_name": "Python 3 (ipykernel)",
   "language": "python",
   "name": "python3"
  },
  "language_info": {
   "codemirror_mode": {
    "name": "ipython",
    "version": 3
   },
   "file_extension": ".py",
   "mimetype": "text/x-python",
   "name": "python",
   "nbconvert_exporter": "python",
   "pygments_lexer": "ipython3",
   "version": "3.9.7"
  }
 },
 "nbformat": 4,
 "nbformat_minor": 5
}
