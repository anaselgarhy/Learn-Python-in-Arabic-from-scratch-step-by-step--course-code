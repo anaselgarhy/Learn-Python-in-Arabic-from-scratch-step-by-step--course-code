{
 "cells": [
  {
   "cell_type": "markdown",
   "id": "0f877d7d-5c48-456c-a280-38a89afc93a4",
   "metadata": {},
   "source": [
    "**To print**"
   ]
  },
  {
   "cell_type": "code",
   "execution_count": 2,
   "id": "d3bcb215-b984-42be-be46-4cc676c084a9",
   "metadata": {},
   "outputs": [
    {
     "name": "stdout",
     "output_type": "stream",
     "text": [
      "hello worlld\n"
     ]
    }
   ],
   "source": [
    "print(\"hello worlld\")"
   ]
  },
  {
   "cell_type": "code",
   "execution_count": 3,
   "id": "885c7022-bd59-4563-acad-050ccef5839e",
   "metadata": {},
   "outputs": [
    {
     "name": "stdout",
     "output_type": "stream",
     "text": [
      "10\n",
      "3.7\n"
     ]
    }
   ],
   "source": [
    "x = 10\n",
    "y = 3.7\n",
    "\n",
    "print(x)\n",
    "print(y)"
   ]
  },
  {
   "cell_type": "code",
   "execution_count": 5,
   "id": "7f7a108d-0428-4e5e-9c7f-4c176ae71bf1",
   "metadata": {},
   "outputs": [
    {
     "name": "stdout",
     "output_type": "stream",
     "text": [
      "Anas\n",
      "Anas\n"
     ]
    }
   ],
   "source": [
    "s = \"Anas\"\n",
    "nn = 'Anas'\n",
    "\n",
    "print(s)\n",
    "print(nn)"
   ]
  },
  {
   "cell_type": "code",
   "execution_count": 6,
   "id": "4702363e-ace7-4f14-be48-bdc872ae7836",
   "metadata": {},
   "outputs": [
    {
     "name": "stdout",
     "output_type": "stream",
     "text": [
      "10\n",
      "10\n"
     ]
    }
   ],
   "source": [
    "a = 10\n",
    "b = a\n",
    "\n",
    "print(a)\n",
    "print(b)"
   ]
  },
  {
   "cell_type": "code",
   "execution_count": 9,
   "id": "b9bb6332-4d6e-486a-aec6-4361ce96a0f2",
   "metadata": {},
   "outputs": [
    {
     "name": "stdout",
     "output_type": "stream",
     "text": [
      "55\n",
      "a\n"
     ]
    }
   ],
   "source": [
    "a = 55\n",
    "\n",
    "print(a)\n",
    "print(\"a\")"
   ]
  },
  {
   "cell_type": "code",
   "execution_count": null,
   "id": "8ac20e48-ee21-4547-8de3-e12b16d92d43",
   "metadata": {},
   "outputs": [],
   "source": []
  }
 ],
 "metadata": {
  "kernelspec": {
   "display_name": "Python 3 (ipykernel)",
   "language": "python",
   "name": "python3"
  },
  "language_info": {
   "codemirror_mode": {
    "name": "ipython",
    "version": 3
   },
   "file_extension": ".py",
   "mimetype": "text/x-python",
   "name": "python",
   "nbconvert_exporter": "python",
   "pygments_lexer": "ipython3",
   "version": "3.9.7"
  }
 },
 "nbformat": 4,
 "nbformat_minor": 5
}
