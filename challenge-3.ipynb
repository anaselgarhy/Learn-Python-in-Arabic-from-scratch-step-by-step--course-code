{
 "cells": [
  {
   "cell_type": "markdown",
   "id": "ea0fa34e-4da2-4ae6-b361-963f8b91c6f3",
   "metadata": {},
   "source": [
    "## Challenge 3:\n"
   ]
  },
  {
   "cell_type": "markdown",
   "id": "e68a4ae1-85f7-4bde-bb5d-251ec20ae3a5",
   "metadata": {},
   "source": [
    "**Write python program wich accept the radius of a cercle from the user and compute the area**\n",
    "*Ex.*<br>\n",
    "Enter the area: 1.1\n",
    "The radius = 3.8013271108436504"
   ]
  },
  {
   "cell_type": "markdown",
   "id": "d9e5bdf1-607b-4d9c-b663-b88f0c70251a",
   "metadata": {},
   "source": [
    "بستعمل<br>\n",
    "`from math import pi`<br>\n",
    "علشان اضمن الثابت باي اللي موجود في مكتبة ماث في البرنامج"
   ]
  },
  {
   "cell_type": "code",
   "execution_count": 9,
   "id": "22e66570-711b-409c-a075-251734d9fc2f",
   "metadata": {},
   "outputs": [],
   "source": [
    "# Import pi const from math modle\n",
    "from math import pi"
   ]
  },
  {
   "cell_type": "markdown",
   "id": "1ceb47fa-7b85-4f45-ae7f-f0a0fec5dc7b",
   "metadata": {},
   "source": [
    "بستعمل دالة<br>\n",
    "`float()`<br>\n",
    "علشان احول القيمة اللي بعتها ليها للرقم عشري"
   ]
  },
  {
   "cell_type": "code",
   "execution_count": 5,
   "id": "221c2e69-9786-4c54-a069-e63da4db1275",
   "metadata": {},
   "outputs": [
    {
     "name": "stdin",
     "output_type": "stream",
     "text": [
      "Pleease enter the area:  1.1\n"
     ]
    }
   ],
   "source": [
    "# get the arrea from user\n",
    "area = float(input(\"Pleease enter the area: \"))"
   ]
  },
  {
   "cell_type": "markdown",
   "id": "a926c1d9-098e-4895-a21c-c999cec66854",
   "metadata": {},
   "source": [
    "- ** علشان ارفع الرقم لاس معين بستعمل ال "
   ]
  },
  {
   "cell_type": "code",
   "execution_count": 6,
   "id": "2fa941c5-aeec-42b2-ae4e-bab5832f43d7",
   "metadata": {},
   "outputs": [],
   "source": [
    "r = pi * area**2"
   ]
  },
  {
   "cell_type": "markdown",
   "id": "259be11e-abb2-4d9e-8f7b-700e4ed9954b",
   "metadata": {},
   "source": [
    "*Print result*"
   ]
  },
  {
   "cell_type": "code",
   "execution_count": 8,
   "id": "3d30a0c0-4d86-4a0b-9e3e-1a5d50ee9904",
   "metadata": {},
   "outputs": [
    {
     "name": "stdout",
     "output_type": "stream",
     "text": [
      "The radius = 3.8013271108436504\n"
     ]
    }
   ],
   "source": [
    "print(\"The radius = \" + str(r))"
   ]
  },
  {
   "cell_type": "code",
   "execution_count": null,
   "id": "2ce17f48-3145-45e6-9cf9-d2ca240b9e9a",
   "metadata": {},
   "outputs": [],
   "source": []
  }
 ],
 "metadata": {
  "kernelspec": {
   "display_name": "Python 3 (ipykernel)",
   "language": "python",
   "name": "python3"
  },
  "language_info": {
   "codemirror_mode": {
    "name": "ipython",
    "version": 3
   },
   "file_extension": ".py",
   "mimetype": "text/x-python",
   "name": "python",
   "nbconvert_exporter": "python",
   "pygments_lexer": "ipython3",
   "version": "3.9.7"
  }
 },
 "nbformat": 4,
 "nbformat_minor": 5
}
