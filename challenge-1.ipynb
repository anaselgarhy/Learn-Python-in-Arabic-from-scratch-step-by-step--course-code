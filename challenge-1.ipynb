{
 "cells": [
  {
   "cell_type": "markdown",
   "id": "10735c21-8ac5-4b16-947b-51d580e24540",
   "metadata": {
    "tags": []
   },
   "source": [
    "## Challenge 1:\n",
    "<br>\n",
    "**Write the program read frist name and last name from user and print last name and first name and include space between thim"
   ]
  },
  {
   "cell_type": "code",
   "execution_count": 3,
   "id": "11cf49c8-37b7-45e2-aac4-eabd0f273fda",
   "metadata": {},
   "outputs": [
    {
     "name": "stdin",
     "output_type": "stream",
     "text": [
      "Please enter your first name:  Anas\n",
      "Please enter your last name:  Elgarhy\n"
     ]
    },
    {
     "name": "stdout",
     "output_type": "stream",
     "text": [
      "Elgarhy Anas\n"
     ]
    }
   ],
   "source": [
    "frist_name = input(\"Please enter your first name: \")\n",
    "last_name = input(\"Please enter your last name: \")\n",
    "\n",
    "print(last_name + \" \" + frist_name)"
   ]
  }
 ],
 "metadata": {
  "kernelspec": {
   "display_name": "Python 3 (ipykernel)",
   "language": "python",
   "name": "python3"
  },
  "language_info": {
   "codemirror_mode": {
    "name": "ipython",
    "version": 3
   },
   "file_extension": ".py",
   "mimetype": "text/x-python",
   "name": "python",
   "nbconvert_exporter": "python",
   "pygments_lexer": "ipython3",
   "version": "3.9.7"
  }
 },
 "nbformat": 4,
 "nbformat_minor": 5
}
